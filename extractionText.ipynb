{
 "cells": [
  {
   "cell_type": "markdown",
   "id": "3f1875da",
   "metadata": {},
   "source": [
    "DA TRASCRIZIONI DELLO SPEECH-TO-TEXT A FILE SOLO TESTO E CREAZIONE JSON CON PAROLE E TIMESTAMP PER OGNI FILE"
   ]
  },
  {
   "cell_type": "code",
   "execution_count": 1,
   "id": "49a9a8b6",
   "metadata": {},
   "outputs": [],
   "source": [
    "import re\n",
    "import os\n",
    "\n",
    "def extract_text_from_file(input_file_path, output_file_path=None):\n",
    "    \"\"\"\n",
    "    Estrae il testo da un file strutturato con tempi e parole.\n",
    "    \n",
    "    Args:\n",
    "        input_file_path (str): Percorso del file di input.\n",
    "        output_file_path (str, optional): Se specificato, salva il testo in un file.\n",
    "    Returns:\n",
    "        str: Testo estratto.\n",
    "    \"\"\"\n",
    "    with open(input_file_path, 'r', encoding='utf-8') as file:\n",
    "        lines = file.readlines()\n",
    "    \n",
    "    # Estrai solo le righe di testo (ignora header, tempi e linee divisorie)\n",
    "    text_lines = []\n",
    "    in_text_section = False\n",
    "    \n",
    "    for line in lines:\n",
    "        line = line.strip()\n",
    "        if not line:\n",
    "            continue  # Salta righe vuote\n",
    "        if line.startswith(\"PAROLA\") or line.startswith(\"----\"):\n",
    "            in_text_section = False\n",
    "            continue\n",
    "        if not in_text_section and not re.match(r\"^\\S+\\s+\\d+\\.\\d+s\\s+\\d+\\.\\d+s$\", line):\n",
    "            text_lines.append(line)\n",
    "            in_text_section = True\n",
    "    \n",
    "    extracted_text = \" \".join(text_lines).strip()\n",
    "    \n",
    "    if output_file_path:\n",
    "        with open(output_file_path, 'w', encoding='utf-8') as out_file:\n",
    "            out_file.write(extracted_text)\n",
    "    \n",
    "    return extracted_text"
   ]
  },
  {
   "cell_type": "code",
   "execution_count": 2,
   "id": "277be925",
   "metadata": {},
   "outputs": [
    {
     "ename": "FileNotFoundError",
     "evalue": "[WinError 3] Impossibile trovare il percorso specificato: 'transcription'",
     "output_type": "error",
     "traceback": [
      "\u001b[1;31m---------------------------------------------------------------------------\u001b[0m",
      "\u001b[1;31mFileNotFoundError\u001b[0m                         Traceback (most recent call last)",
      "Cell \u001b[1;32mIn[2], line 2\u001b[0m\n\u001b[0;32m      1\u001b[0m input_dir \u001b[38;5;241m=\u001b[39m \u001b[38;5;124m\"\u001b[39m\u001b[38;5;124mtranscription\u001b[39m\u001b[38;5;124m\"\u001b[39m\n\u001b[1;32m----> 2\u001b[0m folders \u001b[38;5;241m=\u001b[39m [name \u001b[38;5;28;01mfor\u001b[39;00m name \u001b[38;5;129;01min\u001b[39;00m \u001b[43mos\u001b[49m\u001b[38;5;241;43m.\u001b[39;49m\u001b[43mlistdir\u001b[49m\u001b[43m(\u001b[49m\u001b[43minput_dir\u001b[49m\u001b[43m)\u001b[49m \u001b[38;5;28;01mif\u001b[39;00m os\u001b[38;5;241m.\u001b[39mpath\u001b[38;5;241m.\u001b[39misdir(os\u001b[38;5;241m.\u001b[39mpath\u001b[38;5;241m.\u001b[39mjoin(input_dir, name))]\n\u001b[0;32m      3\u001b[0m output_dir \u001b[38;5;241m=\u001b[39m \u001b[38;5;124m\"\u001b[39m\u001b[38;5;124maa\u001b[39m\u001b[38;5;124m\"\u001b[39m\n\u001b[0;32m      4\u001b[0m os\u001b[38;5;241m.\u001b[39mmakedirs(output_dir, exist_ok\u001b[38;5;241m=\u001b[39m\u001b[38;5;28;01mTrue\u001b[39;00m)\n",
      "\u001b[1;31mFileNotFoundError\u001b[0m: [WinError 3] Impossibile trovare il percorso specificato: 'transcription'"
     ]
    }
   ],
   "source": [
    "input_dir = \"transcription\"\n",
    "folders = [name for name in os.listdir(input_dir) if os.path.isdir(os.path.join(input_dir, name))]\n",
    "output_dir = \"aa\"\n",
    "os.makedirs(output_dir, exist_ok=True)\n",
    "\n",
    "for folder in folders:\n",
    "    input_path = os.path.join(input_dir, folder)\n",
    "    for filename in os.listdir(input_path):\n",
    "        if filename.endswith(\".txt\"):\n",
    "            print(f\"Processing {folder}/{filename}\")\n",
    "            input_path = os.path.join(input_path, filename)\n",
    "            output_path = os.path.join(output_dir, f\"{folder}_clean_{filename}\")\n",
    "            extract_text_from_file(input_path, output_path)"
   ]
  },
  {
   "cell_type": "code",
   "execution_count": null,
   "id": "37c02f64",
   "metadata": {},
   "outputs": [
    {
     "name": "stdout",
     "output_type": "stream",
     "text": [
      "🔍 Elaborando: aaaa.txt\n",
      "✅ Salvato: timestamp_json_turbo\\economia_applicata_clean_aaaa.json\n",
      "🔍 Elaborando: aaa.txt\n",
      "✅ Salvato: timestamp_json_turbo\\linguaggio_e_comunicazione_clean_aaa.json\n"
     ]
    }
   ],
   "source": [
    "import os\n",
    "import json\n",
    "\n",
    "input_dir = \"transcription\"\n",
    "folders = [name for name in os.listdir(input_dir) if os.path.isdir(os.path.join(input_dir, name))]\n",
    "output_dir = \"aaaa\"\n",
    "os.makedirs(output_dir, exist_ok=True)\n",
    "\n",
    "for folder in folders:\n",
    "    input_path = os.path.join(input_dir, folder)\n",
    "    for filename in os.listdir(input_path):\n",
    "        if filename.endswith(\".txt\"):\n",
    "            print(f\"🔍 Elaborando: {filename}\")\n",
    "            input_path = os.path.join(input_path, filename)\n",
    "            output_path = os.path.join(output_dir, f\"{folder}_clean_{filename.replace(\".txt\", \".json\")}\")\n",
    "\n",
    "            with open(input_path, 'r', encoding='utf-8') as file:\n",
    "                lines = file.readlines()\n",
    "\n",
    "            in_timestamp_section = False\n",
    "            words = []\n",
    "\n",
    "            for line in lines:\n",
    "                line = line.strip()\n",
    "                if not line:\n",
    "                    continue\n",
    "\n",
    "                if line.startswith(\"----\"):\n",
    "                    in_timestamp_section = True\n",
    "                    continue\n",
    "\n",
    "                if in_timestamp_section:\n",
    "                    parts = line.split()\n",
    "                    if len(parts) == 3:\n",
    "                        word_text = parts[0]\n",
    "                        try:\n",
    "                            start_time = float(parts[1].replace(\"s\", \"\"))\n",
    "                            end_time = float(parts[2].replace(\"s\", \"\"))\n",
    "                        except ValueError:\n",
    "                            continue\n",
    "\n",
    "                        words.append({\n",
    "                            \"text\": word_text,\n",
    "                            \"start\": start_time,\n",
    "                            \"end\": end_time\n",
    "                        })\n",
    "\n",
    "            with open(output_path, 'w', encoding='utf-8') as f:\n",
    "                json.dump(words, f, ensure_ascii=False, indent=2)\n",
    "\n",
    "            print(f\"✅ Salvato: {output_path}\")\n"
   ]
  }
 ],
 "metadata": {
  "kernelspec": {
   "display_name": "whisper_env2",
   "language": "python",
   "name": "python3"
  },
  "language_info": {
   "codemirror_mode": {
    "name": "ipython",
    "version": 3
   },
   "file_extension": ".py",
   "mimetype": "text/x-python",
   "name": "python",
   "nbconvert_exporter": "python",
   "pygments_lexer": "ipython3",
   "version": "3.12.7"
  }
 },
 "nbformat": 4,
 "nbformat_minor": 5
}
